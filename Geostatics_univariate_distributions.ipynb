{
 "cells": [
  {
   "cell_type": "markdown",
   "metadata": {},
   "source": [
    "# This is a notebook for analysing univariate statistics and visualizing using GSLIB library"
   ]
  },
  {
   "cell_type": "code",
   "execution_count": 6,
   "metadata": {},
   "outputs": [],
   "source": [
    "import numpy as np                        # ndarrys for gridded data\n",
    "import pandas as pd                       # DataFrames for tabular data\n",
    "import os                                 # set working directory, run executables\n",
    "import matplotlib.pyplot as plt           # for plotting\n",
    "from scipy import stats                   # summary statistics\n",
    "import geostatspy.GSLIB as GSLIB          # GSLIB utilies, visualization and wrapper\n",
    "import geostatspy.geostats as geostats    # GSLIB methods convert to Python"
   ]
  },
  {
   "cell_type": "code",
   "execution_count": 7,
   "metadata": {},
   "outputs": [
    {
     "data": {
      "text/html": [
       "<div>\n",
       "<style scoped>\n",
       "    .dataframe tbody tr th:only-of-type {\n",
       "        vertical-align: middle;\n",
       "    }\n",
       "\n",
       "    .dataframe tbody tr th {\n",
       "        vertical-align: top;\n",
       "    }\n",
       "\n",
       "    .dataframe thead th {\n",
       "        text-align: right;\n",
       "    }\n",
       "</style>\n",
       "<table border=\"1\" class=\"dataframe\">\n",
       "  <thead>\n",
       "    <tr style=\"text-align: right;\">\n",
       "      <th></th>\n",
       "      <th>Unnamed: 0</th>\n",
       "      <th>X</th>\n",
       "      <th>Y</th>\n",
       "      <th>Facies</th>\n",
       "      <th>Porosity</th>\n",
       "      <th>Perm</th>\n",
       "      <th>AI</th>\n",
       "    </tr>\n",
       "  </thead>\n",
       "  <tbody>\n",
       "    <tr>\n",
       "      <th>0</th>\n",
       "      <td>2</td>\n",
       "      <td>50.0</td>\n",
       "      <td>850.0</td>\n",
       "      <td>1.0</td>\n",
       "      <td>0.090611</td>\n",
       "      <td>5.117354</td>\n",
       "      <td>3786.436225</td>\n",
       "    </tr>\n",
       "    <tr>\n",
       "      <th>1</th>\n",
       "      <td>3</td>\n",
       "      <td>50.0</td>\n",
       "      <td>800.0</td>\n",
       "      <td>1.0</td>\n",
       "      <td>0.101328</td>\n",
       "      <td>9.306003</td>\n",
       "      <td>2985.315030</td>\n",
       "    </tr>\n",
       "    <tr>\n",
       "      <th>2</th>\n",
       "      <td>5</td>\n",
       "      <td>50.0</td>\n",
       "      <td>700.0</td>\n",
       "      <td>1.0</td>\n",
       "      <td>0.118637</td>\n",
       "      <td>2724.882727</td>\n",
       "      <td>3174.257858</td>\n",
       "    </tr>\n",
       "    <tr>\n",
       "      <th>3</th>\n",
       "      <td>6</td>\n",
       "      <td>50.0</td>\n",
       "      <td>650.0</td>\n",
       "      <td>1.0</td>\n",
       "      <td>0.122391</td>\n",
       "      <td>800.419734</td>\n",
       "      <td>4371.515366</td>\n",
       "    </tr>\n",
       "    <tr>\n",
       "      <th>4</th>\n",
       "      <td>7</td>\n",
       "      <td>50.0</td>\n",
       "      <td>600.0</td>\n",
       "      <td>1.0</td>\n",
       "      <td>0.108202</td>\n",
       "      <td>3370.291282</td>\n",
       "      <td>2624.985174</td>\n",
       "    </tr>\n",
       "    <tr>\n",
       "      <th>5</th>\n",
       "      <td>9</td>\n",
       "      <td>50.0</td>\n",
       "      <td>500.0</td>\n",
       "      <td>1.0</td>\n",
       "      <td>0.105749</td>\n",
       "      <td>3835.242908</td>\n",
       "      <td>3974.477021</td>\n",
       "    </tr>\n",
       "    <tr>\n",
       "      <th>6</th>\n",
       "      <td>10</td>\n",
       "      <td>50.0</td>\n",
       "      <td>450.0</td>\n",
       "      <td>1.0</td>\n",
       "      <td>0.094204</td>\n",
       "      <td>745.386536</td>\n",
       "      <td>4638.884469</td>\n",
       "    </tr>\n",
       "    <tr>\n",
       "      <th>7</th>\n",
       "      <td>13</td>\n",
       "      <td>50.0</td>\n",
       "      <td>300.0</td>\n",
       "      <td>0.0</td>\n",
       "      <td>0.070700</td>\n",
       "      <td>14.349151</td>\n",
       "      <td>6050.464410</td>\n",
       "    </tr>\n",
       "    <tr>\n",
       "      <th>8</th>\n",
       "      <td>14</td>\n",
       "      <td>50.0</td>\n",
       "      <td>250.0</td>\n",
       "      <td>0.0</td>\n",
       "      <td>0.053582</td>\n",
       "      <td>1.062599</td>\n",
       "      <td>5789.277853</td>\n",
       "    </tr>\n",
       "    <tr>\n",
       "      <th>9</th>\n",
       "      <td>15</td>\n",
       "      <td>50.0</td>\n",
       "      <td>200.0</td>\n",
       "      <td>1.0</td>\n",
       "      <td>0.072368</td>\n",
       "      <td>1.055740</td>\n",
       "      <td>6378.448875</td>\n",
       "    </tr>\n",
       "    <tr>\n",
       "      <th>10</th>\n",
       "      <td>20</td>\n",
       "      <td>100.0</td>\n",
       "      <td>900.0</td>\n",
       "      <td>1.0</td>\n",
       "      <td>0.073413</td>\n",
       "      <td>22.489579</td>\n",
       "      <td>5343.141595</td>\n",
       "    </tr>\n",
       "    <tr>\n",
       "      <th>11</th>\n",
       "      <td>24</td>\n",
       "      <td>100.0</td>\n",
       "      <td>700.0</td>\n",
       "      <td>1.0</td>\n",
       "      <td>0.105281</td>\n",
       "      <td>366.435318</td>\n",
       "      <td>3893.174334</td>\n",
       "    </tr>\n",
       "    <tr>\n",
       "      <th>12</th>\n",
       "      <td>25</td>\n",
       "      <td>100.0</td>\n",
       "      <td>650.0</td>\n",
       "      <td>1.0</td>\n",
       "      <td>0.119379</td>\n",
       "      <td>3927.029806</td>\n",
       "      <td>2771.240558</td>\n",
       "    </tr>\n",
       "    <tr>\n",
       "      <th>13</th>\n",
       "      <td>26</td>\n",
       "      <td>100.0</td>\n",
       "      <td>600.0</td>\n",
       "      <td>1.0</td>\n",
       "      <td>0.113059</td>\n",
       "      <td>567.566540</td>\n",
       "      <td>3833.016608</td>\n",
       "    </tr>\n",
       "    <tr>\n",
       "      <th>14</th>\n",
       "      <td>27</td>\n",
       "      <td>100.0</td>\n",
       "      <td>550.0</td>\n",
       "      <td>1.0</td>\n",
       "      <td>0.112024</td>\n",
       "      <td>80.247538</td>\n",
       "      <td>4041.267414</td>\n",
       "    </tr>\n",
       "  </tbody>\n",
       "</table>\n",
       "</div>"
      ],
      "text/plain": [
       "    Unnamed: 0      X      Y  Facies  Porosity         Perm           AI\n",
       "0            2   50.0  850.0     1.0  0.090611     5.117354  3786.436225\n",
       "1            3   50.0  800.0     1.0  0.101328     9.306003  2985.315030\n",
       "2            5   50.0  700.0     1.0  0.118637  2724.882727  3174.257858\n",
       "3            6   50.0  650.0     1.0  0.122391   800.419734  4371.515366\n",
       "4            7   50.0  600.0     1.0  0.108202  3370.291282  2624.985174\n",
       "5            9   50.0  500.0     1.0  0.105749  3835.242908  3974.477021\n",
       "6           10   50.0  450.0     1.0  0.094204   745.386536  4638.884469\n",
       "7           13   50.0  300.0     0.0  0.070700    14.349151  6050.464410\n",
       "8           14   50.0  250.0     0.0  0.053582     1.062599  5789.277853\n",
       "9           15   50.0  200.0     1.0  0.072368     1.055740  6378.448875\n",
       "10          20  100.0  900.0     1.0  0.073413    22.489579  5343.141595\n",
       "11          24  100.0  700.0     1.0  0.105281   366.435318  3893.174334\n",
       "12          25  100.0  650.0     1.0  0.119379  3927.029806  2771.240558\n",
       "13          26  100.0  600.0     1.0  0.113059   567.566540  3833.016608\n",
       "14          27  100.0  550.0     1.0  0.112024    80.247538  4041.267414"
      ]
     },
     "execution_count": 7,
     "metadata": {},
     "output_type": "execute_result"
    }
   ],
   "source": [
    "data=pd.read_csv(r\"C:\\Users\\Hp\\Downloads\\project_data.csv\")\n",
    "data.head(15)"
   ]
  },
  {
   "cell_type": "code",
   "execution_count": 11,
   "metadata": {},
   "outputs": [
    {
     "data": {
      "text/html": [
       "<div>\n",
       "<style scoped>\n",
       "    .dataframe tbody tr th:only-of-type {\n",
       "        vertical-align: middle;\n",
       "    }\n",
       "\n",
       "    .dataframe tbody tr th {\n",
       "        vertical-align: top;\n",
       "    }\n",
       "\n",
       "    .dataframe thead th {\n",
       "        text-align: right;\n",
       "    }\n",
       "</style>\n",
       "<table border=\"1\" class=\"dataframe\">\n",
       "  <thead>\n",
       "    <tr style=\"text-align: right;\">\n",
       "      <th></th>\n",
       "      <th>X</th>\n",
       "      <th>Y</th>\n",
       "      <th>Facies</th>\n",
       "      <th>Porosity</th>\n",
       "      <th>Perm</th>\n",
       "      <th>AI</th>\n",
       "    </tr>\n",
       "  </thead>\n",
       "  <tbody>\n",
       "    <tr>\n",
       "      <th>0</th>\n",
       "      <td>50.0</td>\n",
       "      <td>850.0</td>\n",
       "      <td>1.0</td>\n",
       "      <td>0.090611</td>\n",
       "      <td>5.117354</td>\n",
       "      <td>3786.436225</td>\n",
       "    </tr>\n",
       "    <tr>\n",
       "      <th>1</th>\n",
       "      <td>50.0</td>\n",
       "      <td>800.0</td>\n",
       "      <td>1.0</td>\n",
       "      <td>0.101328</td>\n",
       "      <td>9.306003</td>\n",
       "      <td>2985.315030</td>\n",
       "    </tr>\n",
       "    <tr>\n",
       "      <th>2</th>\n",
       "      <td>50.0</td>\n",
       "      <td>700.0</td>\n",
       "      <td>1.0</td>\n",
       "      <td>0.118637</td>\n",
       "      <td>2724.882727</td>\n",
       "      <td>3174.257858</td>\n",
       "    </tr>\n",
       "    <tr>\n",
       "      <th>3</th>\n",
       "      <td>50.0</td>\n",
       "      <td>650.0</td>\n",
       "      <td>1.0</td>\n",
       "      <td>0.122391</td>\n",
       "      <td>800.419734</td>\n",
       "      <td>4371.515366</td>\n",
       "    </tr>\n",
       "    <tr>\n",
       "      <th>4</th>\n",
       "      <td>50.0</td>\n",
       "      <td>600.0</td>\n",
       "      <td>1.0</td>\n",
       "      <td>0.108202</td>\n",
       "      <td>3370.291282</td>\n",
       "      <td>2624.985174</td>\n",
       "    </tr>\n",
       "  </tbody>\n",
       "</table>\n",
       "</div>"
      ],
      "text/plain": [
       "      X      Y  Facies  Porosity         Perm           AI\n",
       "0  50.0  850.0     1.0  0.090611     5.117354  3786.436225\n",
       "1  50.0  800.0     1.0  0.101328     9.306003  2985.315030\n",
       "2  50.0  700.0     1.0  0.118637  2724.882727  3174.257858\n",
       "3  50.0  650.0     1.0  0.122391   800.419734  4371.515366\n",
       "4  50.0  600.0     1.0  0.108202  3370.291282  2624.985174"
      ]
     },
     "execution_count": 11,
     "metadata": {},
     "output_type": "execute_result"
    }
   ],
   "source": [
    "data.drop('Unnamed: 0',axis=1)\n",
    "data=data[['X','Y','Facies','Porosity','Perm','AI']]\n",
    "data.head()"
   ]
  },
  {
   "cell_type": "code",
   "execution_count": 12,
   "metadata": {},
   "outputs": [
    {
     "data": {
      "text/html": [
       "<div>\n",
       "<style scoped>\n",
       "    .dataframe tbody tr th:only-of-type {\n",
       "        vertical-align: middle;\n",
       "    }\n",
       "\n",
       "    .dataframe tbody tr th {\n",
       "        vertical-align: top;\n",
       "    }\n",
       "\n",
       "    .dataframe thead th {\n",
       "        text-align: right;\n",
       "    }\n",
       "</style>\n",
       "<table border=\"1\" class=\"dataframe\">\n",
       "  <thead>\n",
       "    <tr style=\"text-align: right;\">\n",
       "      <th></th>\n",
       "      <th>count</th>\n",
       "      <th>mean</th>\n",
       "      <th>std</th>\n",
       "      <th>min</th>\n",
       "      <th>25%</th>\n",
       "      <th>50%</th>\n",
       "      <th>75%</th>\n",
       "      <th>max</th>\n",
       "    </tr>\n",
       "  </thead>\n",
       "  <tbody>\n",
       "    <tr>\n",
       "      <th>X</th>\n",
       "      <td>291.0</td>\n",
       "      <td>445.223368</td>\n",
       "      <td>287.564448</td>\n",
       "      <td>0.000000</td>\n",
       "      <td>200.000000</td>\n",
       "      <td>450.000000</td>\n",
       "      <td>700.000000</td>\n",
       "      <td>980.000000</td>\n",
       "    </tr>\n",
       "    <tr>\n",
       "      <th>Y</th>\n",
       "      <td>291.0</td>\n",
       "      <td>558.515464</td>\n",
       "      <td>256.373251</td>\n",
       "      <td>9.000000</td>\n",
       "      <td>350.000000</td>\n",
       "      <td>600.000000</td>\n",
       "      <td>750.000000</td>\n",
       "      <td>989.000000</td>\n",
       "    </tr>\n",
       "    <tr>\n",
       "      <th>Facies</th>\n",
       "      <td>291.0</td>\n",
       "      <td>0.762887</td>\n",
       "      <td>0.426045</td>\n",
       "      <td>0.000000</td>\n",
       "      <td>1.000000</td>\n",
       "      <td>1.000000</td>\n",
       "      <td>1.000000</td>\n",
       "      <td>1.000000</td>\n",
       "    </tr>\n",
       "    <tr>\n",
       "      <th>Porosity</th>\n",
       "      <td>291.0</td>\n",
       "      <td>0.085675</td>\n",
       "      <td>0.015941</td>\n",
       "      <td>0.053582</td>\n",
       "      <td>0.073647</td>\n",
       "      <td>0.083169</td>\n",
       "      <td>0.094496</td>\n",
       "      <td>0.130574</td>\n",
       "    </tr>\n",
       "    <tr>\n",
       "      <th>Perm</th>\n",
       "      <td>291.0</td>\n",
       "      <td>373.806377</td>\n",
       "      <td>990.615302</td>\n",
       "      <td>0.024186</td>\n",
       "      <td>5.586733</td>\n",
       "      <td>29.794540</td>\n",
       "      <td>216.359583</td>\n",
       "      <td>9141.540902</td>\n",
       "    </tr>\n",
       "    <tr>\n",
       "      <th>AI</th>\n",
       "      <td>291.0</td>\n",
       "      <td>4636.269980</td>\n",
       "      <td>1053.869515</td>\n",
       "      <td>2214.427809</td>\n",
       "      <td>3835.674219</td>\n",
       "      <td>4614.220120</td>\n",
       "      <td>5410.443474</td>\n",
       "      <td>7240.220496</td>\n",
       "    </tr>\n",
       "  </tbody>\n",
       "</table>\n",
       "</div>"
      ],
      "text/plain": [
       "          count         mean          std          min          25%  \\\n",
       "X         291.0   445.223368   287.564448     0.000000   200.000000   \n",
       "Y         291.0   558.515464   256.373251     9.000000   350.000000   \n",
       "Facies    291.0     0.762887     0.426045     0.000000     1.000000   \n",
       "Porosity  291.0     0.085675     0.015941     0.053582     0.073647   \n",
       "Perm      291.0   373.806377   990.615302     0.024186     5.586733   \n",
       "AI        291.0  4636.269980  1053.869515  2214.427809  3835.674219   \n",
       "\n",
       "                  50%          75%          max  \n",
       "X          450.000000   700.000000   980.000000  \n",
       "Y          600.000000   750.000000   989.000000  \n",
       "Facies       1.000000     1.000000     1.000000  \n",
       "Porosity     0.083169     0.094496     0.130574  \n",
       "Perm        29.794540   216.359583  9141.540902  \n",
       "AI        4614.220120  5410.443474  7240.220496  "
      ]
     },
     "execution_count": 12,
     "metadata": {},
     "output_type": "execute_result"
    }
   ],
   "source": [
    "data.describe().transpose()"
   ]
  },
  {
   "cell_type": "code",
   "execution_count": 14,
   "metadata": {},
   "outputs": [
    {
     "name": "stdout",
     "output_type": "stream",
     "text": [
      "The minimum is 0.05.\n",
      "The maximum is 0.13.\n",
      "The standard deviation is 0.02.\n",
      "The standard deviation is 0.02.\n"
     ]
    }
   ],
   "source": [
    "print('The minimum is ' + str(round((data['Porosity'].values).min(),2)) + '.')\n",
    "print('The maximum is ' + str(round((data['Porosity'].values).max(),2)) + '.')\n",
    "print('The standard deviation is ' + str(round((data['Porosity'].values).std(),2)) + '.')\n",
    "print('The standard deviation is ' + str(round((data['Porosity'].values).std(),2)) + '.')"
   ]
  },
  {
   "cell_type": "code",
   "execution_count": 15,
   "metadata": {},
   "outputs": [
    {
     "name": "stdout",
     "output_type": "stream",
     "text": [
      "The range (maximum - minimum) is 0.08\n",
      "The P10 is 0.067\n",
      "The P50 is 0.083\n",
      "The P90 is 0.109\n",
      "The P13 is 0.069\n",
      "The media (P50) is 0.083\n",
      "The mean is 0.086\n"
     ]
    }
   ],
   "source": [
    "\n",
    "print('The range (maximum - minimum) is ' + str(round(np.ptp(data['Porosity'].values),2)))\n",
    "print('The P10 is ' + str(round(np.percentile(data['Porosity'].values,10),3)))\n",
    "print('The P50 is ' + str(round(np.percentile(data['Porosity'].values,50),3)))\n",
    "print('The P90 is ' + str(round(np.percentile(data['Porosity'].values,90),3)))\n",
    "print('The P13 is ' + str(round(np.percentile(data['Porosity'].values,13),3)))\n",
    "print('The media (P50) is ' + str(round(np.median(data['Porosity'].values),3)))\n",
    "print('The mean is ' + str(round(np.mean(data['Porosity'].values),3)))"
   ]
  },
  {
   "cell_type": "markdown",
   "metadata": {},
   "source": [
    "### The NumPy command average allows for weighted averages as in the case of statistical expectation and declutered statistics. For demonstration, lets make a weighting array and apply it."
   ]
  },
  {
   "cell_type": "code",
   "execution_count": 18,
   "metadata": {},
   "outputs": [
    {
     "name": "stdout",
     "output_type": "stream",
     "text": [
      "291\n",
      "The equal weighted average is 0.086, the same as the mean above.\n"
     ]
    }
   ],
   "source": [
    "nd = len(data)  \n",
    "print(nd) # get the number of data values\n",
    "wts = np.ones(nd)                         # make an array of nd length of 1's\n",
    "print('The equal weighted average is ' + str(round(np.average(data['Porosity'].values,weights = wts),3)) + ', the same as the mean above.')"
   ]
  },
  {
   "cell_type": "markdown",
   "metadata": {},
   "source": [
    "### SciPy stats functions provide a handy summary statistics function. The output is a 'list' of values (actually it is a SciPy.DescribeResult ojbect). One can extract any one of them to use in a workflow as follows."
   ]
  },
  {
   "cell_type": "code",
   "execution_count": 20,
   "metadata": {},
   "outputs": [
    {
     "name": "stdout",
     "output_type": "stream",
     "text": [
      "DescribeResult(nobs=291, minmax=(0.05358198856528379, 0.13057400109664508), mean=0.08567504582945078, variance=0.00025413073426972817, skewness=0.6938555303625061, kurtosis=0.029341612332211664)\n",
      "Porosity kurtosis is 0.03\n"
     ]
    }
   ],
   "source": [
    "print(stats.describe(data['Porosity'].values))                # summary statistics   \n",
    "por_stats = stats.describe(data['Porosity'].values)           # store as an array\n",
    "print('Porosity kurtosis is ' + str(round(por_stats[5],2))) # extract a statistic"
   ]
  },
  {
   "cell_type": "markdown",
   "metadata": {},
   "source": [
    "# Plotting Distributions with GSLIB"
   ]
  },
  {
   "cell_type": "code",
   "execution_count": 21,
   "metadata": {},
   "outputs": [
    {
     "data": {
      "text/plain": [
       "<function geostatspy.GSLIB.hist(array, xmin, xmax, log, cumul, bins, weights, xlabel, title, fig_name)>"
      ]
     },
     "execution_count": 21,
     "metadata": {},
     "output_type": "execute_result"
    }
   ],
   "source": [
    "GSLIB.hist"
   ]
  },
  {
   "cell_type": "code",
   "execution_count": 23,
   "metadata": {},
   "outputs": [
    {
     "data": {
      "image/png": "[encoded data removed]",
      "text/plain": [
       "<Figure size 576x432 with 1 Axes>"
      ]
     },
     "metadata": {
      "needs_background": "light"
     },
     "output_type": "display_data"
    }
   ],
   "source": [
    "pormin = 0.05; pormax = 0.13\n",
    "GSLIB.hist(data['Porosity'].values,pormin,pormax,log=False,cumul = False,bins=8,weights = None, xlabel='Porosity (fraction)',title='Porosity Well Data',fig_name='hist_Porosity')"
   ]
  },
  {
   "cell_type": "code",
   "execution_count": 24,
   "metadata": {},
   "outputs": [
    {
     "data": {
      "image/png": "[encoded data removed]",
      "text/plain": [
       "<Figure size 432x288 with 3 Axes>"
      ]
     },
     "metadata": {
      "needs_background": "light"
     },
     "output_type": "display_data"
    }
   ],
   "source": [
    "plt.subplot(131)\n",
    "GSLIB.hist_st(data['Porosity'].values,pormin,pormax,log=False,cumul = False,bins=5,weights = None,xlabel='Porosity (fraction)',title='Porosity Well Data')\n",
    "\n",
    "plt.subplot(132)\n",
    "GSLIB.hist_st(data['Porosity'].values,pormin,pormax,log=False,cumul = False,bins=10,weights = None,xlabel='Porosity (fraction)',title='Porosity Well Data')\n",
    "\n",
    "plt.subplot(133)\n",
    "GSLIB.hist_st(data['Porosity'].values,pormin,pormax,log=False,cumul = False,bins=20,weights = None,xlabel='Porosity (fraction)',title='Porosity Well Data')\n",
    "\n",
    "plt.subplots_adjust(left=0.0, bottom=0.0, right=3.0, top=1.5, wspace=0.1, hspace=0.2)\n",
    "plt.savefig('hist_Porosity_Multiple_bins.tif',dpi=600,bbox_inches=\"tight\")\n",
    "plt.show()"
   ]
  },
  {
   "cell_type": "markdown",
   "metadata": {},
   "source": [
    "# Cumulative plots"
   ]
  },
  {
   "cell_type": "code",
   "execution_count": 27,
   "metadata": {},
   "outputs": [
    {
     "data": {
      "image/png": "[encoded data removed]",
      "text/plain": [
       "<Figure size 576x432 with 1 Axes>"
      ]
     },
     "metadata": {
      "needs_background": "light"
     },
     "output_type": "display_data"
    }
   ],
   "source": [
    "GSLIB.hist(data['Porosity'].values,pormin,pormax,log=False,cumul = True,bins=50,weights = None,xlabel='Porosity (fraction)',title='Porosity Well Data',fig_name='hist_Porosity_CDF')"
   ]
  },
  {
   "cell_type": "code",
   "execution_count": 29,
   "metadata": {},
   "outputs": [
    {
     "data": {
      "image/png": "[encoded data removed]",
      "text/plain": [
       "<Figure size 432x288 with 1 Axes>"
      ]
     },
     "metadata": {
      "needs_background": "light"
     },
     "output_type": "display_data"
    }
   ],
   "source": [
    "plt.hist(data['Porosity'].values,density=True, cumulative=True, label='CDF',\n",
    "           histtype='stepfilled', alpha=0.2, bins = 100, color='blue', edgecolor = 'black', range=[0.0,0.15])\n",
    "plt.xlabel('Porosity (fraction)')\n",
    "plt.title('Porosity CDF')\n",
    "plt.ylabel('Cumulation Probability')\n",
    "plt.subplots_adjust(left=0.0, bottom=0.0, right=1.0, top=1.0, wspace=0.1, hspace=0.2)\n",
    "plt.savefig('cdf_Porosity.tif',dpi=600,bbox_inches=\"tight\")\n",
    "plt.show()"
   ]
  },
  {
   "cell_type": "code",
   "execution_count": 30,
   "metadata": {},
   "outputs": [
    {
     "data": {
      "image/png": "[encoded data removed]",
      "text/plain": [
       "<Figure size 432x288 with 4 Axes>"
      ]
     },
     "metadata": {
      "needs_background": "light"
     },
     "output_type": "display_data"
    }
   ],
   "source": [
    "permmin = 0.02; permmax = 9141;                # user specified min and max\n",
    "AImin = 2214.0; AImax = 8000\n",
    "Fmin = 0; Fmax = 1\n",
    "\n",
    "plt.subplot(221)\n",
    "GSLIB.hist_st(data['Facies'].values,Fmin,Fmax,log=False,cumul = False,bins=20,weights = None,xlabel='Facies (1-sand, 0-shale)',title='Facies Well Data')\n",
    "\n",
    "plt.subplot(222)\n",
    "GSLIB.hist_st(data['Porosity'].values,pormin,pormax,log=False,cumul = False,bins=20,weights = None,xlabel='Porosity (fraction)',title='Porosity Well Data')\n",
    "\n",
    "plt.subplot(223)\n",
    "GSLIB.hist_st(data['Perm'].values,permmin,permmax,log=False,cumul = False,bins=20,weights = None,xlabel='Permeaiblity (mD)',title='Permeability Well Data')\n",
    "\n",
    "plt.subplot(224)\n",
    "GSLIB.hist_st(data['AI'].values,AImin,AImax,log=False,cumul = False,bins=20,weights = None,xlabel='Acoustic Impedance (kg/m2s*10^6)',title='Acoustic Impedance Well Data')\n",
    "\n",
    "plt.subplots_adjust(left=0.0, bottom=0.0, right=3.0, top=3.5, wspace=0.1, hspace=0.2)\n",
    "plt.savefig('hist_Porosity_Multiple_bins.tif',dpi=600,bbox_inches=\"tight\")\n",
    "plt.show()"
   ]
  },
  {
   "cell_type": "code",
   "execution_count": null,
   "metadata": {},
   "outputs": [],
   "source": []
  }
 ],
 "metadata": {
  "kernelspec": {
   "display_name": "Python 3",
   "language": "python",
   "name": "python3"
  },
  "language_info": {
   "codemirror_mode": {
    "name": "ipython",
    "version": 3
   },
   "file_extension": ".py",
   "mimetype": "text/x-python",
   "name": "python",
   "nbconvert_exporter": "python",
   "pygments_lexer": "ipython3",
   "version": "3.8.1"
  }
 },
 "nbformat": 4,
 "nbformat_minor": 4
}
