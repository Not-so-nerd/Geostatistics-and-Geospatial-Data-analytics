{
 "cells": [
  {
   "cell_type": "markdown",
   "metadata": {},
   "source": [
    "## Demonstration of Monte Carlo simulation for subsurface uncertainty modeling workflows. This should help you get started with building subsurface models that integrate uncertainty sources.\n",
    "\n",
    "# Monte Carlo Simulation\n",
    "## Definition: random sampling from a distribution\n",
    "\n",
    "\n",
    "\n",
    "\n",
    "\n",
    "## Monte Carlo Simulation (MCS) is extremely powerful\n",
    "\n",
    "### Possible to easily simulate uncertainty models for complicated systems\n",
    "## Simulations are conducted by drawing values at random from specified uncertainty distributions for each variable\n",
    "## A single realization of each variable, A,h,POR,Bo,Swi is applied to the transfer function to calculate the realization of the variable of interest, OOIP (output, decision criteria):"
   ]
  },
  {
   "cell_type": "markdown",
   "metadata": {},
   "source": [
    "### The GeostatsPy Package brings GSLIB: Geostatistical Library (Deutsch and Journel, 1998) functions to Python. GSLIB is extremely robust and practical set of code for building spatial modeling workflows.\n",
    "\n",
    "### geostatspy.geostats includes GSLIB functions rewritten in Python. This currently includes all the variogram, distribution transformations, and spatial estimation and simulation (SGSIM soon) methods. I will continue adding functions to support modeling operations for practical subsurface model cosntruction.\n",
    "\n",
    "### geostatspy.GSLIB includes reimplimentation of the GSLIB visualizations and low tech wrappers of the numerical methods (note: the low-tech wrapper require access to GSLIB executables)."
   ]
  },
  {
   "cell_type": "code",
   "execution_count": 4,
   "metadata": {},
   "outputs": [],
   "source": [
    "import geostatspy.GSLIB as GSLIB          # GSLIB utilies, visualization and wrapper\n",
    "import geostatspy.geostats as geostats    # GSLIB methods convert to Python\n",
    "import numpy as np                        # ndarrys for gridded data\n",
    "import pandas as pd                       # DataFrames for tabular data\n",
    "import os                                 # set working directory, run executables\n",
    "import matplotlib.pyplot as plt           # for plotting\n",
    "from scipy import stats                   # summary statistics\n",
    "import math                               # trig etc.\n",
    "import random"
   ]
  },
  {
   "cell_type": "markdown",
   "metadata": {},
   "source": [
    "## About the data- Data contains basic parameters reqd. to calculate OOIP \n",
    "\n",
    "#### A-Area\n",
    "#### POR-porosity\n",
    "#### h-height\n",
    "#### B0- oil fvf\n",
    "#### Swi-water saturation\n"
   ]
  },
  {
   "cell_type": "code",
   "execution_count": 5,
   "metadata": {},
   "outputs": [
    {
     "data": {
      "text/html": [
       "<div>\n",
       "<style scoped>\n",
       "    .dataframe tbody tr th:only-of-type {\n",
       "        vertical-align: middle;\n",
       "    }\n",
       "\n",
       "    .dataframe tbody tr th {\n",
       "        vertical-align: top;\n",
       "    }\n",
       "\n",
       "    .dataframe thead th {\n",
       "        text-align: right;\n",
       "    }\n",
       "</style>\n",
       "<table border=\"1\" class=\"dataframe\">\n",
       "  <thead>\n",
       "    <tr style=\"text-align: right;\">\n",
       "      <th></th>\n",
       "      <th>A</th>\n",
       "      <th>POR</th>\n",
       "      <th>Swi</th>\n",
       "      <th>Bo</th>\n",
       "      <th>h</th>\n",
       "    </tr>\n",
       "  </thead>\n",
       "  <tbody>\n",
       "    <tr>\n",
       "      <th>0</th>\n",
       "      <td>490</td>\n",
       "      <td>15</td>\n",
       "      <td>17</td>\n",
       "      <td>1.105</td>\n",
       "      <td>90</td>\n",
       "    </tr>\n",
       "    <tr>\n",
       "      <th>1</th>\n",
       "      <td>490</td>\n",
       "      <td>16</td>\n",
       "      <td>17</td>\n",
       "      <td>1.105</td>\n",
       "      <td>90</td>\n",
       "    </tr>\n",
       "    <tr>\n",
       "      <th>2</th>\n",
       "      <td>490</td>\n",
       "      <td>16</td>\n",
       "      <td>18</td>\n",
       "      <td>1.106</td>\n",
       "      <td>90</td>\n",
       "    </tr>\n",
       "    <tr>\n",
       "      <th>3</th>\n",
       "      <td>490</td>\n",
       "      <td>17</td>\n",
       "      <td>18</td>\n",
       "      <td>1.106</td>\n",
       "      <td>90</td>\n",
       "    </tr>\n",
       "    <tr>\n",
       "      <th>4</th>\n",
       "      <td>490</td>\n",
       "      <td>17</td>\n",
       "      <td>20</td>\n",
       "      <td>1.106</td>\n",
       "      <td>90</td>\n",
       "    </tr>\n",
       "    <tr>\n",
       "      <th>5</th>\n",
       "      <td>500</td>\n",
       "      <td>17</td>\n",
       "      <td>20</td>\n",
       "      <td>1.106</td>\n",
       "      <td>100</td>\n",
       "    </tr>\n",
       "    <tr>\n",
       "      <th>6</th>\n",
       "      <td>500</td>\n",
       "      <td>18</td>\n",
       "      <td>22</td>\n",
       "      <td>1.106</td>\n",
       "      <td>100</td>\n",
       "    </tr>\n",
       "    <tr>\n",
       "      <th>7</th>\n",
       "      <td>500</td>\n",
       "      <td>18</td>\n",
       "      <td>22</td>\n",
       "      <td>1.106</td>\n",
       "      <td>100</td>\n",
       "    </tr>\n",
       "    <tr>\n",
       "      <th>8</th>\n",
       "      <td>500</td>\n",
       "      <td>18</td>\n",
       "      <td>22</td>\n",
       "      <td>1.106</td>\n",
       "      <td>100</td>\n",
       "    </tr>\n",
       "    <tr>\n",
       "      <th>9</th>\n",
       "      <td>500</td>\n",
       "      <td>18</td>\n",
       "      <td>22</td>\n",
       "      <td>1.107</td>\n",
       "      <td>100</td>\n",
       "    </tr>\n",
       "  </tbody>\n",
       "</table>\n",
       "</div>"
      ],
      "text/plain": [
       "     A  POR  Swi     Bo    h\n",
       "0  490   15   17  1.105   90\n",
       "1  490   16   17  1.105   90\n",
       "2  490   16   18  1.106   90\n",
       "3  490   17   18  1.106   90\n",
       "4  490   17   20  1.106   90\n",
       "5  500   17   20  1.106  100\n",
       "6  500   18   22  1.106  100\n",
       "7  500   18   22  1.106  100\n",
       "8  500   18   22  1.106  100\n",
       "9  500   18   22  1.107  100"
      ]
     },
     "execution_count": 5,
     "metadata": {},
     "output_type": "execute_result"
    }
   ],
   "source": [
    "#reading the file\n",
    "df=pd.read_excel(r\"C:\\Users\\Hp\\Documents\\MCS.xlsx\")\n",
    "df.head(10)"
   ]
  },
  {
   "cell_type": "code",
   "execution_count": 6,
   "metadata": {},
   "outputs": [
    {
     "data": {
      "text/html": [
       "<div>\n",
       "<style scoped>\n",
       "    .dataframe tbody tr th:only-of-type {\n",
       "        vertical-align: middle;\n",
       "    }\n",
       "\n",
       "    .dataframe tbody tr th {\n",
       "        vertical-align: top;\n",
       "    }\n",
       "\n",
       "    .dataframe thead th {\n",
       "        text-align: right;\n",
       "    }\n",
       "</style>\n",
       "<table border=\"1\" class=\"dataframe\">\n",
       "  <thead>\n",
       "    <tr style=\"text-align: right;\">\n",
       "      <th></th>\n",
       "      <th>count</th>\n",
       "      <th>mean</th>\n",
       "      <th>std</th>\n",
       "      <th>min</th>\n",
       "      <th>25%</th>\n",
       "      <th>50%</th>\n",
       "      <th>75%</th>\n",
       "      <th>max</th>\n",
       "    </tr>\n",
       "  </thead>\n",
       "  <tbody>\n",
       "    <tr>\n",
       "      <th>A</th>\n",
       "      <td>19.0</td>\n",
       "      <td>499.473684</td>\n",
       "      <td>7.050362</td>\n",
       "      <td>490.000</td>\n",
       "      <td>495.000</td>\n",
       "      <td>500.000</td>\n",
       "      <td>500.000</td>\n",
       "      <td>510.000</td>\n",
       "    </tr>\n",
       "    <tr>\n",
       "      <th>POR</th>\n",
       "      <td>19.0</td>\n",
       "      <td>17.736842</td>\n",
       "      <td>1.194529</td>\n",
       "      <td>15.000</td>\n",
       "      <td>17.000</td>\n",
       "      <td>18.000</td>\n",
       "      <td>18.000</td>\n",
       "      <td>20.000</td>\n",
       "    </tr>\n",
       "    <tr>\n",
       "      <th>Swi</th>\n",
       "      <td>19.0</td>\n",
       "      <td>21.368421</td>\n",
       "      <td>2.454260</td>\n",
       "      <td>17.000</td>\n",
       "      <td>20.000</td>\n",
       "      <td>22.000</td>\n",
       "      <td>22.000</td>\n",
       "      <td>25.000</td>\n",
       "    </tr>\n",
       "    <tr>\n",
       "      <th>Bo</th>\n",
       "      <td>19.0</td>\n",
       "      <td>1.106579</td>\n",
       "      <td>0.000902</td>\n",
       "      <td>1.105</td>\n",
       "      <td>1.106</td>\n",
       "      <td>1.107</td>\n",
       "      <td>1.107</td>\n",
       "      <td>1.108</td>\n",
       "    </tr>\n",
       "    <tr>\n",
       "      <th>h</th>\n",
       "      <td>19.0</td>\n",
       "      <td>99.473684</td>\n",
       "      <td>7.050362</td>\n",
       "      <td>90.000</td>\n",
       "      <td>95.000</td>\n",
       "      <td>100.000</td>\n",
       "      <td>100.000</td>\n",
       "      <td>110.000</td>\n",
       "    </tr>\n",
       "  </tbody>\n",
       "</table>\n",
       "</div>"
      ],
      "text/plain": [
       "     count        mean       std      min      25%      50%      75%      max\n",
       "A     19.0  499.473684  7.050362  490.000  495.000  500.000  500.000  510.000\n",
       "POR   19.0   17.736842  1.194529   15.000   17.000   18.000   18.000   20.000\n",
       "Swi   19.0   21.368421  2.454260   17.000   20.000   22.000   22.000   25.000\n",
       "Bo    19.0    1.106579  0.000902    1.105    1.106    1.107    1.107    1.108\n",
       "h     19.0   99.473684  7.050362   90.000   95.000  100.000  100.000  110.000"
      ]
     },
     "execution_count": 6,
     "metadata": {},
     "output_type": "execute_result"
    }
   ],
   "source": [
    "df.describe().transpose()"
   ]
  },
  {
   "cell_type": "code",
   "execution_count": 7,
   "metadata": {},
   "outputs": [
    {
     "name": "stdout",
     "output_type": "stream",
     "text": [
      "17.736842105263158\n",
      "1.1945294407402949\n"
     ]
    }
   ],
   "source": [
    "por_mean=df['POR'].mean()\n",
    "por_stddev=df['POR'].std()\n",
    "print(por_mean)\n",
    "print(por_stddev)"
   ]
  },
  {
   "cell_type": "markdown",
   "metadata": {},
   "source": [
    "## In this step we run our variables a large no. of times (realizations) and finally visualize their normal distribution\n",
    "## This is where the Monte Carlo Simulation technique comes into play."
   ]
  },
  {
   "cell_type": "code",
   "execution_count": 9,
   "metadata": {},
   "outputs": [],
   "source": [
    "L=500   # no. of realizations\n",
    "apor = np.random.normal(por_mean, por_stddev, size=L) # average porosity MCS simulation L times and store in array \n",
    "Swi= np.random.uniform(df['Swi'].min(), df['Swi'].max(), size=L)         # saturation oil\n",
    "h=np.random.normal(df['h'].mean(), df['h'].std(), size=L) # average height MCS simulation L times and store in array\n",
    "A=np.random.normal(df['A'].mean(), df['A'].std(), size=L) # average area MCS simulation L times and store in array\n",
    "Bo=np.random.normal(df['Bo'].mean(), df['Bo'].std(), size=L) # average fvf MCS simulation L times and store in array"
   ]
  },
  {
   "cell_type": "code",
   "execution_count": 10,
   "metadata": {},
   "outputs": [
    {
     "data": {
      "image/png": "[encoded data removed]",
      "text/plain": [
       "<Figure size 432x288 with 3 Axes>"
      ]
     },
     "metadata": {
      "needs_background": "light"
     },
     "output_type": "display_data"
    }
   ],
   "source": [
    "plt.subplot(131)\n",
    "GSLIB.hist_st(apor,df['POR'].min(),df['POR'].max(),log=False,cumul=False,bins=20,weights=None,xlabel=\"Average Porosity (fraction)\",title=\"Average Porosity Realizations\")\n",
    "plt.ylim(0.0,60)\n",
    "\n",
    "plt.subplot(132)\n",
    "GSLIB.hist_st(Swi,df['Swi'].min(),df['Swi'].max(),log=False,cumul=False,bins=20,weights=None,xlabel=\"Saturation\",title=\"Average water saturation Realizations\")\n",
    "plt.ylim(0.0,30)\n",
    "\n",
    "plt.subplot(133)\n",
    "GSLIB.hist_st(h,df['h'].min(),df['h'].max(),log=False,cumul=False,bins=20,weights=None,xlabel=\"net pay thickness\",title=\"Average pay thickness Realizations\")\n",
    "plt.ylim(0.0,40)\n",
    "\n",
    "\n",
    "\n",
    "plt.subplots_adjust(left=0.0, bottom=0.0, right=2.0, top=1.2, wspace=0.2, hspace=0.2)\n",
    "plt.show()"
   ]
  },
  {
   "cell_type": "code",
   "execution_count": 11,
   "metadata": {},
   "outputs": [
    {
     "data": {
      "image/png": "[encoded data removed]",
      "text/plain": [
       "<Figure size 432x288 with 2 Axes>"
      ]
     },
     "metadata": {
      "needs_background": "light"
     },
     "output_type": "display_data"
    }
   ],
   "source": [
    "plt.subplot(121)\n",
    "GSLIB.hist_st(A,df['A'].min(),df['A'].max(),log=False,cumul=False,bins=20,weights=None,xlabel=\"area\",title=\"Average area Realizations\")\n",
    "plt.ylim(0.0,40)\n",
    "\n",
    "plt.subplot(122)\n",
    "GSLIB.hist_st(Bo,df['Bo'].min(),df['Bo'].max(),log=False,cumul=False,bins=20,weights=None,xlabel=\"fvf\",title=\"Average oil fvf Realizations\")\n",
    "plt.ylim(0.0,40)\n",
    "\n",
    "plt.subplots_adjust(left=0.0, bottom=0.0, right=2.0, top=1.2, wspace=0.2, hspace=0.2)\n",
    "plt.show()"
   ]
  },
  {
   "cell_type": "markdown",
   "metadata": {},
   "source": [
    "## We check our o/p i.e. OOIP and visualize the distribution over L realizations"
   ]
  },
  {
   "cell_type": "code",
   "execution_count": 15,
   "metadata": {},
   "outputs": [
    {
     "data": {
      "image/png": "[encoded data removed]",
      "text/plain": [
       "<Figure size 432x288 with 1 Axes>"
      ]
     },
     "metadata": {
      "needs_background": "light"
     },
     "output_type": "display_data"
    }
   ],
   "source": [
    "OIP = 7758*(df['A']*(df['POR']/100)*df['Bo']*(1-df['Swi']/100))/(df['h'])\n",
    "plt.subplot(111)\n",
    "GSLIB.hist_st(OIP,5000,7000,log=False,cumul=False,bins=10,weights=None,xlabel=\"Reservoir OIP (bbls)\",title=\"Reservoir OIP Realizations\")\n",
    "plt.ylim(0.0,20)\n",
    "plt.subplots_adjust(left=0.0, bottom=0.0, right=1.0, top=1.2, wspace=0.2, hspace=0.2)\n",
    "plt.show()\n"
   ]
  },
  {
   "cell_type": "markdown",
   "metadata": {},
   "source": [
    "## We check our o/p and run the simulation for smaller no. of realizations to see the changes, if any."
   ]
  },
  {
   "cell_type": "code",
   "execution_count": 16,
   "metadata": {},
   "outputs": [],
   "source": [
    "L = 100                                                # set L small \n",
    "# First set of realizations\n",
    "apor = np.random.normal(por_mean, por_stddev, size=L) # average porosity MCS simulation L times and store in array \n",
    "Swi= np.random.uniform(df['Swi'].min(), df['Swi'].max(), size=L)         # saturation oil\n",
    "h=np.random.normal(df['h'].mean(), df['h'].std(), size=L) # average height MCS simulation L times and store in array\n",
    "A=np.random.normal(df['A'].mean(), df['A'].std(), size=L) # average area MCS simulation L times and store in array\n",
    "Bo=np.random.normal(df['Bo'].mean(), df['Bo'].std(), size=L) # average fvf MCS simulation L times and store in array\n",
    "OIP1 = 7758*(df['A']*(df['POR']/100)*df['Bo']*(1-df['Swi']/100))/(df['h'])\n",
    "# Second set of realizations\n",
    "L=300\n",
    "apor = np.random.normal(por_mean, por_stddev, size=L) # average porosity MCS simulation L times and store in array \n",
    "Swi= np.random.uniform(df['Swi'].min(), df['Swi'].max(), size=L)         # saturation oil\n",
    "h=np.random.normal(df['h'].mean(), df['h'].std(), size=L) # average height MCS simulation L times and store in array\n",
    "A=np.random.normal(df['A'].mean(), df['A'].std(), size=L) # average area MCS simulation L times and store in array\n",
    "Bo=np.random.normal(df['Bo'].mean(), df['Bo'].std(), size=L) # average fvf MCS simulation L times and store in array\n",
    "OIP2 = 7758*(df['A']*(df['POR']/100)*df['Bo']*(1-df['Swi']/100))/(df['h'])"
   ]
  },
  {
   "cell_type": "code",
   "execution_count": 17,
   "metadata": {},
   "outputs": [
    {
     "data": {
      "image/png": "[encoded data removed]",
      "text/plain": [
       "<Figure size 432x288 with 2 Axes>"
      ]
     },
     "metadata": {
      "needs_background": "light"
     },
     "output_type": "display_data"
    }
   ],
   "source": [
    "plt.subplot(121)\n",
    "GSLIB.hist_st(OIP1,4000,7000,log=False,cumul=False,bins=20,weights=None,xlabel=\"Reservoir OIP (bbls)\",title=\"Reservoir OIP Realizations, Set 1\")\n",
    "plt.ylim(0.0,15)\n",
    "\n",
    "plt.subplot(122)\n",
    "GSLIB.hist_st(OIP2,4000,7000,log=False,cumul=False,bins=20,weights=None,xlabel=\"Reservoir OIP (bbls)\",title=\"Reservoir OIP Realizations, Set 2\")\n",
    "plt.ylim(0.0,15)\n",
    "\n",
    "plt.subplots_adjust(left=0.0, bottom=0.0, right=2.0, top=1.2, wspace=0.2, hspace=0.2)\n",
    "plt.show()"
   ]
  },
  {
   "cell_type": "code",
   "execution_count": 18,
   "metadata": {},
   "outputs": [
    {
     "name": "stdout",
     "output_type": "stream",
     "text": [
      "The average OIP for large number of realizations = 6012.789\n",
      "The average OIP for small number of realizations = 6012.789, 6012.789\n"
     ]
    }
   ],
   "source": [
    "print('The average OIP for large number of realizations = ' + str(round(np.average(OIP),3)))\n",
    "print('The average OIP for small number of realizations = ' + str(round(np.average(OIP1),3)) + ', ' + str(round(np.average(OIP2),3))) "
   ]
  },
  {
   "cell_type": "markdown",
   "metadata": {},
   "source": [
    "## It is seen that the the OOIP remains same maybe because of small dataset. "
   ]
  },
  {
   "cell_type": "code",
   "execution_count": null,
   "metadata": {},
   "outputs": [],
   "source": []
  }
 ],
 "metadata": {
  "kernelspec": {
   "display_name": "Python 3",
   "language": "python",
   "name": "python3"
  },
  "language_info": {
   "codemirror_mode": {
    "name": "ipython",
    "version": 3
   },
   "file_extension": ".py",
   "mimetype": "text/x-python",
   "name": "python",
   "nbconvert_exporter": "python",
   "pygments_lexer": "ipython3",
   "version": "3.8.1"
  }
 },
 "nbformat": 4,
 "nbformat_minor": 4
}
