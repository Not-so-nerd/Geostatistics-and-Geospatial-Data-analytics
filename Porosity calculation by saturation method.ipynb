{
 "cells": [
  {
   "cell_type": "code",
   "execution_count": 4,
   "metadata": {},
   "outputs": [
    {
     "name": "stdout",
     "output_type": "stream",
     "text": [
      "Enter dry weight of sample:50\n",
      "Enter saturated weight of sample:55\n",
      "Enter fluid density with which sample is saturated:.90\n",
      "5.555555555555555\n",
      "radius of sample:2\n",
      "Height of sample:2\n",
      "25.12\n",
      "porosity of sample is: 22.116065109695683\n"
     ]
    }
   ],
   "source": [
    "Wd=input(\"Enter dry weight of sample:\")\n",
    "Wd=float(Wd)\n",
    "Ws=input(\"Enter saturated weight of sample:\")\n",
    "Ws=float(Ws)\n",
    "Pl=input(\"Enter fluid density with which sample is saturated:\")\n",
    "Pl=float(Pl)\n",
    "Vp=(Ws-Wd)/Pl\n",
    "print(Vp)\n",
    "r=input(\"radius of sample:\")\n",
    "r=float(r)\n",
    "h=input(\"Height of sample:\")\n",
    "h=float(h)\n",
    "Vb=3.14*r*r*h\n",
    "print(Vb)\n",
    "p=(Vp/Vb)*100\n",
    "print(f\"porosity of sample is: {p}\")"
   ]
  },
  {
   "cell_type": "code",
   "execution_count": null,
   "metadata": {},
   "outputs": [],
   "source": []
  }
 ],
 "metadata": {
  "kernelspec": {
   "display_name": "Python 3",
   "language": "python",
   "name": "python3"
  },
  "language_info": {
   "codemirror_mode": {
    "name": "ipython",
    "version": 3
   },
   "file_extension": ".py",
   "mimetype": "text/x-python",
   "name": "python",
   "nbconvert_exporter": "python",
   "pygments_lexer": "ipython3",
   "version": "3.8.2"
  }
 },
 "nbformat": 4,
 "nbformat_minor": 4
}
